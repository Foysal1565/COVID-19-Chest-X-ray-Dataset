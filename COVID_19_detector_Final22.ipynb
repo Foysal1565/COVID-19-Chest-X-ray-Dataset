{
  "nbformat": 4,
  "nbformat_minor": 0,
  "metadata": {
    "colab": {
      "name": "COVID-19 detector Final22",
      "provenance": [],
      "collapsed_sections": [],
      "authorship_tag": "ABX9TyPT1gwYZ//rprVyHWk+BWo8",
      "include_colab_link": true
    },
    "kernelspec": {
      "name": "python3",
      "display_name": "Python 3"
    },
    "accelerator": "GPU"
  },
  "cells": [
    {
      "cell_type": "markdown",
      "metadata": {
        "id": "view-in-github",
        "colab_type": "text"
      },
      "source": [
        "<a href=\"https://colab.research.google.com/github/Foysal1565/COVID-19-Chest-X-ray-Dataset-and-CNN-model-ICCECE/blob/master/COVID_19_detector_Final22.ipynb\" target=\"_parent\"><img src=\"https://colab.research.google.com/assets/colab-badge.svg\" alt=\"Open In Colab\"/></a>"
      ]
    },
    {
      "cell_type": "code",
      "metadata": {
        "id": "E9r_FxRnGQud",
        "colab": {
          "base_uri": "https://localhost:8080/",
          "height": 1000
        },
        "outputId": "fb311a46-f503-4fe5-8c9f-5aaf0a795185"
      },
      "source": [
        "!unzip covid_19"
      ],
      "execution_count": null,
      "outputs": [
        {
          "output_type": "stream",
          "text": [
            "Archive:  covid_19.zip\n",
            "   creating: Dataset3/\n",
            "   creating: Dataset3/Test/\n",
            "   creating: Dataset3/Test/Covid/\n",
            "  inflating: Dataset3/Test/Covid/covid-19-pneumonia-mild.JPG  \n",
            "  inflating: Dataset3/Test/Covid/d009d61f.jpg  \n",
            "  inflating: Dataset3/Test/Covid/e1446fe8.jpg  \n",
            "  inflating: Dataset3/Test/Covid/E63574A7-4188-4C8D-8D17-9D67A18A1AFA.jpeg  \n",
            "  inflating: Dataset3/Test/Covid/eb8e8a5b.jpg  \n",
            "  inflating: Dataset3/Test/Covid/ec083e35.jpg  \n",
            "  inflating: Dataset3/Test/Covid/extubation-1.jpg  \n",
            "  inflating: Dataset3/Test/Covid/extubation-4.jpg  \n",
            "  inflating: Dataset3/Test/Covid/f0864aff.jpg  \n",
            "  inflating: Dataset3/Test/Covid/F2DE909F-E19C-4900-92F5-8F435B031AC6.jpeg  \n",
            "  inflating: Dataset3/Test/Covid/F4341CE7-73C9-45C6-99C8-8567A5484B63.jpeg  \n",
            "  inflating: Dataset3/Test/Covid/F63AB6CE-1968-4154-A70F-913AF154F53D.jpeg  \n",
            "  inflating: Dataset3/Test/Covid/f64132c8.jpg  \n",
            "  inflating: Dataset3/Test/Covid/f6d980a0.jpg  \n",
            "  inflating: Dataset3/Test/Covid/f8335316.jpg  \n",
            "  inflating: Dataset3/Test/Covid/FE9F9A5D-2830-46F9-851B-1FF4534959BE.jpeg  \n",
            "  inflating: Dataset3/Test/Covid/fff49165-b22d-4bb4-b9d1-d5d62c52436c.annot.original.png  \n",
            "  inflating: Dataset3/Test/Covid/gr1_lrg-a.jpg  \n",
            "  inflating: Dataset3/Test/Covid/gr1_lrg-b.jpg  \n",
            "  inflating: Dataset3/Test/Covid/kjr-21-e24-g001-l-a.jpg  \n",
            "  inflating: Dataset3/Test/Covid/kjr-21-e24-g002-l-a.jpg  \n",
            "  inflating: Dataset3/Test/Covid/kjr-21-e24-g003-l-a.jpg  \n",
            "  inflating: Dataset3/Test/Covid/kjr-21-e25-g001-l-a.jpg  \n",
            "  inflating: Dataset3/Test/Covid/lancet-case2a.jpg  \n",
            "  inflating: Dataset3/Test/Covid/lancet-case2b.jpg  \n",
            "  inflating: Dataset3/Test/Covid/nCoV-radiol.2020200269.fig1-day7.jpeg  \n",
            "  inflating: Dataset3/Test/Covid/nejmoa2001191_f1-PA.jpeg  \n",
            "  inflating: Dataset3/Test/Covid/nejmoa2001191_f3-PA.jpeg  \n",
            "  inflating: Dataset3/Test/Covid/nejmoa2001191_f4.jpeg  \n",
            "  inflating: Dataset3/Test/Covid/nejmoa2001191_f5-PA.jpeg  \n",
            "  inflating: Dataset3/Test/Covid/paving.jpg  \n",
            "  inflating: Dataset3/Test/Covid/radiol.2020200274.fig3d.png  \n",
            "  inflating: Dataset3/Test/Covid/radiol.2020200490.fig3.jpeg  \n",
            "  inflating: Dataset3/Test/Covid/ryct.2020200028.fig1a.jpeg  \n",
            "  inflating: Dataset3/Test/Covid/ryct.2020200034.fig2.jpeg  \n",
            "  inflating: Dataset3/Test/Covid/ryct.2020200034.fig5-day7.jpeg  \n",
            "  inflating: Dataset3/Test/Covid/thnov10p5641g006-c.png  \n",
            "  inflating: Dataset3/Test/Covid/tpmd200203f2-a.png  \n",
            "  inflating: Dataset3/Test/Covid/tpmd200203f2-b.png  \n",
            "  inflating: Dataset3/Test/Covid/tpmd200203f2-c.png  \n",
            "  inflating: Dataset3/Test/Covid/yxppt-2020-02-19_00-51-27_287214-day8.jpg  \n",
            "   creating: Dataset3/Test/Normal/\n",
            "  inflating: Dataset3/Test/Normal/IM-0168-0001.jpeg  \n",
            "  inflating: Dataset3/Test/Normal/IM-0176-0001.jpeg  \n",
            "  inflating: Dataset3/Test/Normal/IM-0185-0001.jpeg  \n",
            "  inflating: Dataset3/Test/Normal/IM-0193-0001.jpeg  \n",
            "  inflating: Dataset3/Test/Normal/IM-0199-0001.jpeg  \n",
            "  inflating: Dataset3/Test/Normal/IM-0205-0001.jpeg  \n",
            "  inflating: Dataset3/Test/Normal/IM-0206-0001.jpeg  \n",
            "  inflating: Dataset3/Test/Normal/IM-0211-0001.jpeg  \n",
            "  inflating: Dataset3/Test/Normal/IM-0222-0001.jpeg  \n",
            "  inflating: Dataset3/Test/Normal/IM-0223-0001.jpeg  \n",
            "  inflating: Dataset3/Test/Normal/IM-0227-0001.jpeg  \n",
            "  inflating: Dataset3/Test/Normal/IM-0256-0001.jpeg  \n",
            "  inflating: Dataset3/Test/Normal/IM-0270-0001.jpeg  \n",
            "  inflating: Dataset3/Test/Normal/IM-0273-0001.jpeg  \n",
            "  inflating: Dataset3/Test/Normal/IM-0283-0001.jpeg  \n",
            "  inflating: Dataset3/Test/Normal/IM-0286-0001.jpeg  \n",
            "  inflating: Dataset3/Test/Normal/IM-0290-0001.jpeg  \n",
            "  inflating: Dataset3/Test/Normal/IM-0293-0001.jpeg  \n",
            "  inflating: Dataset3/Test/Normal/IM-0294-0001.jpeg  \n",
            "  inflating: Dataset3/Test/Normal/IM-0301-0001.jpeg  \n",
            "  inflating: Dataset3/Test/Normal/IM-0308-0001.jpeg  \n",
            "  inflating: Dataset3/Test/Normal/IM-0313-0001.jpeg  \n",
            "  inflating: Dataset3/Test/Normal/IM-0316-0001.jpeg  \n",
            "  inflating: Dataset3/Test/Normal/IM-0319-0001.jpeg  \n",
            "  inflating: Dataset3/Test/Normal/IM-0323-0001.jpeg  \n",
            "  inflating: Dataset3/Test/Normal/IM-0331-0001.jpeg  \n",
            "  inflating: Dataset3/Test/Normal/IM-0332-0001.jpeg  \n",
            "  inflating: Dataset3/Test/Normal/IM-0343-0001.jpeg  \n",
            "  inflating: Dataset3/Test/Normal/IM-0346-0001.jpeg  \n",
            "  inflating: Dataset3/Test/Normal/IM-0349-0001.jpeg  \n",
            "  inflating: Dataset3/Test/Normal/IM-0353-0001.jpeg  \n",
            "  inflating: Dataset3/Test/Normal/IM-0370-0001.jpeg  \n",
            "  inflating: Dataset3/Test/Normal/IM-0375-0001.jpeg  \n",
            "  inflating: Dataset3/Test/Normal/IM-0379-0001.jpeg  \n",
            "  inflating: Dataset3/Test/Normal/IM-0384-0001.jpeg  \n",
            "  inflating: Dataset3/Test/Normal/IM-0414-0001.jpeg  \n",
            "  inflating: Dataset3/Test/Normal/IM-0423-0001.jpeg  \n",
            "  inflating: Dataset3/Test/Normal/IM-0424-0001.jpeg  \n",
            "  inflating: Dataset3/Test/Normal/IM-0430-0001.jpeg  \n",
            "  inflating: Dataset3/Test/Normal/IM-0433-0001.jpeg  \n",
            "  inflating: Dataset3/Test/Normal/IM-0435-0001-0001.jpeg  \n",
            "   creating: Dataset3/Train/\n",
            "   creating: Dataset3/Train/Covid/\n",
            "  inflating: Dataset3/Train/Covid/01E392EE-69F9-4E33-BFCE-E5C968654078.jpeg  \n",
            "  inflating: Dataset3/Train/Covid/02b76460.jpg  \n",
            "  inflating: Dataset3/Train/Covid/03BF7561-A9BA-4C3C-B8A0-D3E585F73F3C.jpeg  \n",
            "  inflating: Dataset3/Train/Covid/0a7faa2a.jpg  \n",
            "  inflating: Dataset3/Train/Covid/1-s2.0-S0140673620303706-fx1_lrg.jpg  \n",
            "  inflating: Dataset3/Train/Covid/1-s2.0-S1684118220300608-main.pdf-001.jpg  \n",
            "  inflating: Dataset3/Train/Covid/1-s2.0-S1684118220300608-main.pdf-002.jpg  \n",
            "  inflating: Dataset3/Train/Covid/1-s2.0-S1684118220300682-main.pdf-002-a1.png  \n",
            "  inflating: Dataset3/Train/Covid/1-s2.0-S1684118220300682-main.pdf-002-a2.png  \n",
            "  inflating: Dataset3/Train/Covid/1-s2.0-S1684118220300682-main.pdf-003-b1.png  \n",
            "  inflating: Dataset3/Train/Covid/1-s2.0-S1684118220300682-main.pdf-003-b2.png  \n",
            "  inflating: Dataset3/Train/Covid/1-s2.0-S2214250920300834-gr1_lrg-b.png  \n",
            "  inflating: Dataset3/Train/Covid/1-s2.0-S2214250920300834-gr1_lrg-c.png  \n",
            "  inflating: Dataset3/Train/Covid/1-s2.0-S2387020620301959-gr4_lrg-b.png  \n",
            "  inflating: Dataset3/Train/Covid/1-s2.0-S2387020620301959-gr4_lrg-c.png  \n",
            "  inflating: Dataset3/Train/Covid/1.CXRCTThoraximagesofCOVID-19fromSingapore.pdf-000-fig1a.png  \n",
            "  inflating: Dataset3/Train/Covid/1.CXRCTThoraximagesofCOVID-19fromSingapore.pdf-000-fig1b.png  \n",
            "  inflating: Dataset3/Train/Covid/1.CXRCTThoraximagesofCOVID-19fromSingapore.pdf-001-fig2a.png  \n",
            "  inflating: Dataset3/Train/Covid/1.CXRCTThoraximagesofCOVID-19fromSingapore.pdf-001-fig2b.png  \n",
            "  inflating: Dataset3/Train/Covid/1.CXRCTThoraximagesofCOVID-19fromSingapore.pdf-002-fig3a.png  \n",
            "  inflating: Dataset3/Train/Covid/1.CXRCTThoraximagesofCOVID-19fromSingapore.pdf-002-fig3b.png  \n",
            "  inflating: Dataset3/Train/Covid/1.CXRCTThoraximagesofCOVID-19fromSingapore.pdf-003-fig4a.png  \n",
            "  inflating: Dataset3/Train/Covid/1.CXRCTThoraximagesofCOVID-19fromSingapore.pdf-003-fig4b.png  \n",
            "  inflating: Dataset3/Train/Covid/10.1016-slash-j.anl.2020.04.002-a.png  \n",
            "  inflating: Dataset3/Train/Covid/10.1016-slash-j.crad.2020.04.002-a.png  \n",
            "  inflating: Dataset3/Train/Covid/10.1016-slash-j.crad.2020.04.002-b.png  \n",
            "  inflating: Dataset3/Train/Covid/1052b0fe.jpg  \n",
            "  inflating: Dataset3/Train/Covid/12941_2020_358_Fig1_HTML.jpg  \n",
            "  inflating: Dataset3/Train/Covid/1312A392-67A3-4EBF-9319-810CF6DA5EF6.jpeg  \n",
            "  inflating: Dataset3/Train/Covid/16654_1_1.png  \n",
            "  inflating: Dataset3/Train/Covid/16654_2_1.jpg  \n",
            "  inflating: Dataset3/Train/Covid/16654_4_1.jpg  \n",
            "  inflating: Dataset3/Train/Covid/16660_1_1.jpg  \n",
            "  inflating: Dataset3/Train/Covid/16660_2_1.jpg  \n",
            "  inflating: Dataset3/Train/Covid/16660_3_1.jpg  \n",
            "  inflating: Dataset3/Train/Covid/16660_4_1.jpg  \n",
            "  inflating: Dataset3/Train/Covid/16663_1_1.jpg  \n",
            "  inflating: Dataset3/Train/Covid/16664_1_1.jpg  \n",
            "  inflating: Dataset3/Train/Covid/16669_1_1.jpeg  \n",
            "  inflating: Dataset3/Train/Covid/16669_3_1.jpeg  \n",
            "  inflating: Dataset3/Train/Covid/16672_1_1.jpg  \n",
            "  inflating: Dataset3/Train/Covid/16708_1_1.jpg  \n",
            "  inflating: Dataset3/Train/Covid/16708_4_1.jpg  \n",
            "  inflating: Dataset3/Train/Covid/16708_5_1.jpg  \n",
            "  inflating: Dataset3/Train/Covid/16745_5_1.png  \n",
            "  inflating: Dataset3/Train/Covid/16747_1_1.jpg  \n",
            "  inflating: Dataset3/Train/Covid/19abe1f3.jpg  \n",
            "  inflating: Dataset3/Train/Covid/1B734A89-A1BF-49A8-A1D3-66FAFA4FAC5D.jpeg  \n",
            "  inflating: Dataset3/Train/Covid/2-chest-filmc.jpg  \n",
            "  inflating: Dataset3/Train/Covid/2168a917.jpg  \n",
            "  inflating: Dataset3/Train/Covid/23E99E2E-447C-46E5-8EB2-D35D12473C39.png  \n",
            "  inflating: Dataset3/Train/Covid/289cb15b.jpg  \n",
            "  inflating: Dataset3/Train/Covid/2966893D-5DDF-4B68-9E2B-4979D5956C8E.jpeg  \n",
            "  inflating: Dataset3/Train/Covid/2C26F453-AF3B-4517-BB9E-802CF2179543.jpeg  \n",
            "  inflating: Dataset3/Train/Covid/2c35005f.jpg  \n",
            "  inflating: Dataset3/Train/Covid/2cd63b76.jpg  \n",
            "  inflating: Dataset3/Train/Covid/31BA3780-2323-493F-8AED-62081B9C383B.jpeg  \n",
            "  inflating: Dataset3/Train/Covid/353889E0-A1E8-4F9E-A0B8-F24F36BCFBFB.jpeg  \n",
            "  inflating: Dataset3/Train/Covid/3b46de94.jpg  \n",
            "  inflating: Dataset3/Train/Covid/40779_2020_233_Fig2_HTML-a.png  \n",
            "  inflating: Dataset3/Train/Covid/41182_2020_203_Fig3_HTML.jpg  \n",
            "  inflating: Dataset3/Train/Covid/41182_2020_203_Fig4_HTML.jpg  \n",
            "  inflating: Dataset3/Train/Covid/41182_2020_203_Fig5_HTML.jpg  \n",
            "  inflating: Dataset3/Train/Covid/41379_2020_536_Fig2_HTML-c1.png  \n",
            "  inflating: Dataset3/Train/Covid/41591_2020_819_Fig1_HTML.webp-day10.png  \n",
            "  inflating: Dataset3/Train/Covid/41591_2020_819_Fig1_HTML.webp-day5.png  \n",
            "  inflating: Dataset3/Train/Covid/441c9cdd.jpg  \n",
            "  inflating: Dataset3/Train/Covid/48c4542c.jpg  \n",
            "  inflating: Dataset3/Train/Covid/4d98e1de.jpg  \n",
            "  inflating: Dataset3/Train/Covid/4e43e48d52c9e2d4c6c1fb9bc1544f_jumbo.jpeg  \n",
            "  inflating: Dataset3/Train/Covid/53EC07C9-5CC6-4BE4-9B6F-D7B0D72AAA7E.jpeg  \n",
            "  inflating: Dataset3/Train/Covid/5782ae15.jpg  \n",
            "  inflating: Dataset3/Train/Covid/58cb9263f16e94305c730685358e4e_jumbo.jpeg  \n",
            "  inflating: Dataset3/Train/Covid/5f619d7e.jpg  \n",
            "  inflating: Dataset3/Train/Covid/6b3bdbc31f65230b8cdcc3cef5f8ba8a-40ac-0.jpg  \n",
            "  inflating: Dataset3/Train/Covid/6b44464d-73a7-4cf3-bbb6-ffe7168300e3.annot.original.jpeg  \n",
            "  inflating: Dataset3/Train/Covid/6C94A287-C059-46A0-8600-AFB95F4727B7.jpeg  \n",
            "  inflating: Dataset3/Train/Covid/6CB4EFC6-68FA-4CD5-940C-BEFA8DAFE9A7.jpeg  \n",
            "  inflating: Dataset3/Train/Covid/7-fatal-covid19.jpg  \n",
            "  inflating: Dataset3/Train/Covid/730a0b8f.jpg  \n",
            "  inflating: Dataset3/Train/Covid/7AF6C1AF-D249-4BD2-8C26-449304105D03.jpeg  \n",
            "  inflating: Dataset3/Train/Covid/7c0d0e1d.jpg  \n",
            "  inflating: Dataset3/Train/Covid/7C69C012-7479-493F-8722-ABC29C60A2DD.jpeg  \n",
            "  inflating: Dataset3/Train/Covid/80446565-E090-4187-A031-9D3CEAA586C8.jpeg  \n",
            "  inflating: Dataset3/Train/Covid/80b5f00f.jpg  \n",
            "  inflating: Dataset3/Train/Covid/82a78c13.jpg  \n",
            "  inflating: Dataset3/Train/Covid/85E52EB3-56E9-4D67-82DA-DEA247C82886.jpeg  \n",
            "  inflating: Dataset3/Train/Covid/88de9d8c39e946abd495b37cd07d89e5-2ee6-0.jpg  \n",
            "  inflating: Dataset3/Train/Covid/88de9d8c39e946abd495b37cd07d89e5-6531-0.jpg  \n",
            "  inflating: Dataset3/Train/Covid/8da14fff.jpg  \n",
            "  inflating: Dataset3/Train/Covid/8FDE8DBA-CFBD-4B4C-B1A4-6F36A93B7E87.jpeg  \n",
            "  inflating: Dataset3/Train/Covid/90986ce4.jpg  \n",
            "  inflating: Dataset3/Train/Covid/93FE0BB1-022D-4F24-9727-987A07975FFB.jpeg  \n",
            "  inflating: Dataset3/Train/Covid/9C34AF49-E589-44D5-92D3-168B3B04E4A6.jpeg  \n",
            "  inflating: Dataset3/Train/Covid/9eca9ade.jpg  \n",
            "  inflating: Dataset3/Train/Covid/9fdd3c3032296fd04d2cad5d9070d4_jumbo.jpeg  \n",
            "  inflating: Dataset3/Train/Covid/a2eba651.jpg  \n",
            "  inflating: Dataset3/Train/Covid/a361d7b7.jpg  \n",
            "  inflating: Dataset3/Train/Covid/a8ac1969.jpg  \n",
            "  inflating: Dataset3/Train/Covid/ada8c494.jpg  \n",
            "  inflating: Dataset3/Train/Covid/ae6c954c0039de4b5edee53865ffee43-e6c8-0.jpg  \n",
            "  inflating: Dataset3/Train/Covid/all14238-fig-0001-m-b.jpg  \n",
            "  inflating: Dataset3/Train/Covid/all14238-fig-0001-m-c.jpg  \n",
            "  inflating: Dataset3/Train/Covid/AR-1.jpg  \n",
            "  inflating: Dataset3/Train/Covid/AR-2.jpg  \n",
            "  inflating: Dataset3/Train/Covid/article_river_e4d185c06e3511eaa2321d8ab357a1de-c1mn.png  \n",
            "  inflating: Dataset3/Train/Covid/auntminnie-a-2020_01_28_23_51_6665_2020_01_28_Vietnam_coronavirus.jpeg  \n",
            "  inflating: Dataset3/Train/Covid/auntminnie-b-2020_01_28_23_51_6665_2020_01_28_Vietnam_coronavirus.jpeg  \n",
            "  inflating: Dataset3/Train/Covid/auntminnie-c-2020_01_28_23_51_6665_2020_01_28_Vietnam_coronavirus.jpeg  \n",
            "  inflating: Dataset3/Train/Covid/auntminnie-d-2020_01_28_23_51_6665_2020_01_28_Vietnam_coronavirus.jpeg  \n",
            "  inflating: Dataset3/Train/Covid/B2D20576-00B7-4519-A415-72DE29C90C34.jpeg  \n",
            "  inflating: Dataset3/Train/Covid/b9673e89.jpg  \n",
            "  inflating: Dataset3/Train/Covid/bb0e626a.jpg  \n",
            "  inflating: Dataset3/Train/Covid/bd10d5e2.jpg  \n",
            "  inflating: Dataset3/Train/Covid/BMJ-37-163-g1.jpg  \n",
            "  inflating: Dataset3/Train/Covid/c0f74558.jpg  \n",
            "  inflating: Dataset3/Train/Covid/c3829ecb.jpg  \n",
            "  inflating: Dataset3/Train/Covid/c601f50d.jpg  \n",
            "  inflating: Dataset3/Train/Covid/CD50BA96-6982-4C80-AE7B-5F67ACDBFA56.jpeg  \n",
            "  inflating: Dataset3/Train/Covid/ciaa199.pdf-001-a.png  \n",
            "  inflating: Dataset3/Train/Covid/ciaa199.pdf-001-b.png  \n",
            "  inflating: Dataset3/Train/Covid/ciaa199.pdf-001-c.png  \n",
            "  inflating: Dataset3/Train/Covid/covid-19-caso-70-1-PA.jpg  \n",
            "  inflating: Dataset3/Train/Covid/covid-19-caso-82-1-8.png  \n",
            "  inflating: Dataset3/Train/Covid/covid-19-caso-91-1-12.png  \n",
            "  inflating: Dataset3/Train/Covid/covid-19-caso-94-1-14.png  \n",
            "  inflating: Dataset3/Train/Covid/covid-19-caso-95-1-15.png  \n",
            "  inflating: Dataset3/Train/Covid/covid-19-caso-95-3-14.png  \n",
            "  inflating: Dataset3/Train/Covid/covid-19-infection-exclusive-gastrointestinal-symptoms-pa.png  \n",
            "  inflating: Dataset3/Train/Covid/covid-19-pneumonia-12.jpg  \n",
            "  inflating: Dataset3/Train/Covid/covid-19-pneumonia-14-PA.png  \n",
            "  inflating: Dataset3/Train/Covid/covid-19-pneumonia-15-PA.jpg  \n",
            "  inflating: Dataset3/Train/Covid/covid-19-pneumonia-19.jpg  \n",
            "  inflating: Dataset3/Train/Covid/covid-19-pneumonia-2.jpg  \n",
            "  inflating: Dataset3/Train/Covid/covid-19-pneumonia-20-pa-on-admission.jpg  \n",
            "  inflating: Dataset3/Train/Covid/covid-19-pneumonia-20.jpg  \n",
            "  inflating: Dataset3/Train/Covid/covid-19-pneumonia-22-day1-pa.png  \n",
            "  inflating: Dataset3/Train/Covid/covid-19-pneumonia-22-day2-pa.png  \n",
            "  inflating: Dataset3/Train/Covid/covid-19-pneumonia-28.png  \n",
            "  inflating: Dataset3/Train/Covid/covid-19-pneumonia-30-PA.jpg  \n",
            "  inflating: Dataset3/Train/Covid/covid-19-pneumonia-34.png  \n",
            "  inflating: Dataset3/Train/Covid/covid-19-pneumonia-35-1.jpg  \n",
            "  inflating: Dataset3/Train/Covid/covid-19-pneumonia-35-2.jpg  \n",
            "  inflating: Dataset3/Train/Covid/covid-19-pneumonia-38-pa.jpg  \n",
            "  inflating: Dataset3/Train/Covid/covid-19-pneumonia-44-day-0.jpeg  \n",
            "  inflating: Dataset3/Train/Covid/covid-19-pneumonia-53.jpg  \n",
            "  inflating: Dataset3/Train/Covid/covid-19-pneumonia-58-day-10.jpg  \n",
            "  inflating: Dataset3/Train/Covid/covid-19-pneumonia-58-day-3.jpg  \n",
            "  inflating: Dataset3/Train/Covid/covid-19-pneumonia-58-day-7.jpg  \n",
            "  inflating: Dataset3/Train/Covid/covid-19-pneumonia-58-day-9.jpg  \n",
            "  inflating: Dataset3/Train/Covid/covid-19-pneumonia-67.jpeg  \n",
            "  inflating: Dataset3/Train/Covid/covid-19-pneumonia-7-PA.jpg  \n",
            "  inflating: Dataset3/Train/Covid/covid-19-pneumonia-8.jpg  \n",
            "  inflating: Dataset3/Train/Covid/covid-19-pneumonia-93.png  \n",
            "  inflating: Dataset3/Train/Covid/covid-19-pneumonia-bilateral.jpg  \n",
            "  inflating: Dataset3/Train/Covid/covid-19-pneumonia-evolution-over-a-week-1-day0-PA.jpg  \n",
            "  inflating: Dataset3/Train/Covid/d9d6ca9a.jpg  \n",
            "  inflating: Dataset3/Train/Covid/extubation-13.jpg  \n",
            "  inflating: Dataset3/Train/Covid/extubation-8.jpg  \n",
            "  inflating: Dataset3/Train/Covid/figure1-5e71be566aa8714a04de3386-98-left.jpeg  \n",
            "  inflating: Dataset3/Train/Covid/figure1-5e75d0940b71e1b702629659-98-right.jpeg  \n",
            "  inflating: Dataset3/Train/Covid/nejmc2001573_f1a.jpeg  \n",
            "  inflating: Dataset3/Train/Covid/nejmc2001573_f1b.jpeg  \n",
            "  inflating: Dataset3/Train/Covid/ryct.2020200034.fig5-day0.jpeg  \n",
            "  inflating: Dataset3/Train/Covid/ryct.2020200034.fig5-day4.jpeg  \n",
            "   creating: Dataset3/Train/Normal/\n",
            "  inflating: Dataset3/Train/Normal/IM-0133-0001.jpeg  \n",
            "  inflating: Dataset3/Train/Normal/IM-0141-0001.jpeg  \n",
            "  inflating: Dataset3/Train/Normal/IM-0156-0001.jpeg  \n",
            "  inflating: Dataset3/Train/Normal/IM-0446-0001.jpeg  \n",
            "  inflating: Dataset3/Train/Normal/IM-0463-0001.jpeg  \n",
            "  inflating: Dataset3/Train/Normal/IM-0465-0001.jpeg  \n",
            "  inflating: Dataset3/Train/Normal/IM-0467-0001-0002.jpeg  \n",
            "  inflating: Dataset3/Train/Normal/IM-0474-0001.jpeg  \n",
            "  inflating: Dataset3/Train/Normal/IM-0480-0001.jpeg  \n",
            "  inflating: Dataset3/Train/Normal/IM-0497-0001-0002.jpeg  \n",
            "  inflating: Dataset3/Train/Normal/IM-0499-0001-0002.jpeg  \n",
            "  inflating: Dataset3/Train/Normal/IM-0500-0001.jpeg  \n",
            "  inflating: Dataset3/Train/Normal/IM-0502-0001.jpeg  \n",
            "  inflating: Dataset3/Train/Normal/IM-0505-0001.jpeg  \n",
            "  inflating: Dataset3/Train/Normal/IM-0511-0001-0001.jpeg  \n",
            "  inflating: Dataset3/Train/Normal/IM-0520-0001.jpeg  \n",
            "  inflating: Dataset3/Train/Normal/IM-0523-0001-0003.jpeg  \n",
            "  inflating: Dataset3/Train/Normal/IM-0526-0001.jpeg  \n",
            "  inflating: Dataset3/Train/Normal/IM-0530-0001.jpeg  \n",
            "  inflating: Dataset3/Train/Normal/IM-0533-0001-0002.jpeg  \n",
            "  inflating: Dataset3/Train/Normal/IM-0536-0001.jpeg  \n",
            "  inflating: Dataset3/Train/Normal/IM-0537-0001.jpeg  \n",
            "  inflating: Dataset3/Train/Normal/IM-0538-0001.jpeg  \n",
            "  inflating: Dataset3/Train/Normal/IM-0542-0001.jpeg  \n",
            "  inflating: Dataset3/Train/Normal/IM-0543-0001-0002.jpeg  \n",
            "  inflating: Dataset3/Train/Normal/IM-0543-0001.jpeg  \n",
            "  inflating: Dataset3/Train/Normal/IM-0546-0001.jpeg  \n",
            "  inflating: Dataset3/Train/Normal/IM-0555-0001.jpeg  \n",
            "  inflating: Dataset3/Train/Normal/IM-0559-0001.jpeg  \n",
            "  inflating: Dataset3/Train/Normal/IM-0562-0001.jpeg  \n",
            "  inflating: Dataset3/Train/Normal/IM-0571-0001.jpeg  \n",
            "  inflating: Dataset3/Train/Normal/IM-0574-0001.jpeg  \n",
            "  inflating: Dataset3/Train/Normal/IM-0575-0001.jpeg  \n",
            "  inflating: Dataset3/Train/Normal/IM-0588-0001.jpeg  \n",
            "  inflating: Dataset3/Train/Normal/IM-0590-0001.jpeg  \n",
            "  inflating: Dataset3/Train/Normal/IM-0608-0001-0001.jpeg  \n",
            "  inflating: Dataset3/Train/Normal/IM-0616-0001.jpeg  \n",
            "  inflating: Dataset3/Train/Normal/IM-0618-0001-0002.jpeg  \n",
            "  inflating: Dataset3/Train/Normal/IM-0621-0001.jpeg  \n",
            "  inflating: Dataset3/Train/Normal/IM-0623-0001.jpeg  \n",
            "  inflating: Dataset3/Train/Normal/IM-0625-0001.jpeg  \n",
            "  inflating: Dataset3/Train/Normal/IM-0627-0001.jpeg  \n",
            "  inflating: Dataset3/Train/Normal/IM-0629-0001-0001.jpeg  \n",
            "  inflating: Dataset3/Train/Normal/IM-0631-0001-0001.jpeg  \n",
            "  inflating: Dataset3/Train/Normal/IM-0631-0001.jpeg  \n",
            "  inflating: Dataset3/Train/Normal/IM-0633-0001.jpeg  \n",
            "  inflating: Dataset3/Train/Normal/IM-0634-0001.jpeg  \n",
            "  inflating: Dataset3/Train/Normal/IM-0640-0001.jpeg  \n",
            "  inflating: Dataset3/Train/Normal/IM-0642-0001.jpeg  \n",
            "  inflating: Dataset3/Train/Normal/IM-0650-0001-0001.jpeg  \n",
            "  inflating: Dataset3/Train/Normal/IM-0656-0001-0002.jpeg  \n",
            "  inflating: Dataset3/Train/Normal/IM-0675-0001.jpeg  \n",
            "  inflating: Dataset3/Train/Normal/IM-0677-0001.jpeg  \n",
            "  inflating: Dataset3/Train/Normal/IM-0682-0001.jpeg  \n",
            "  inflating: Dataset3/Train/Normal/IM-0688-0001.jpeg  \n",
            "  inflating: Dataset3/Train/Normal/IM-0705-0001.jpeg  \n",
            "  inflating: Dataset3/Train/Normal/IM-0709-0001.jpeg  \n",
            "  inflating: Dataset3/Train/Normal/IM-0711-0001.jpeg  \n",
            "  inflating: Dataset3/Train/Normal/IM-0737-0001.jpeg  \n",
            "  inflating: Dataset3/Train/Normal/IM-0741-0001.jpeg  \n",
            "  inflating: Dataset3/Train/Normal/IM-0748-0001.jpeg  \n",
            "  inflating: Dataset3/Train/Normal/IM-0750-0001.jpeg  \n",
            "  inflating: Dataset3/Train/Normal/IM-0761-0001.jpeg  \n",
            "  inflating: Dataset3/Train/Normal/IM-0764-0001.jpeg  \n",
            "  inflating: Dataset3/Train/Normal/IM-0766-0001.jpeg  \n",
            "  inflating: Dataset3/Train/Normal/NORMAL2-IM-0388-0001.jpeg  \n",
            "  inflating: Dataset3/Train/Normal/NORMAL2-IM-0406-0001.jpeg  \n",
            "  inflating: Dataset3/Train/Normal/NORMAL2-IM-0413-0001.jpeg  \n",
            "  inflating: Dataset3/Train/Normal/NORMAL2-IM-0419-0001.jpeg  \n",
            "  inflating: Dataset3/Train/Normal/NORMAL2-IM-0440-0001.jpeg  \n",
            "  inflating: Dataset3/Train/Normal/NORMAL2-IM-0447-0001.jpeg  \n",
            "  inflating: Dataset3/Train/Normal/NORMAL2-IM-0472-0001.jpeg  \n",
            "  inflating: Dataset3/Train/Normal/NORMAL2-IM-0509-0001.jpeg  \n",
            "  inflating: Dataset3/Train/Normal/NORMAL2-IM-0513-0001.jpeg  \n",
            "  inflating: Dataset3/Train/Normal/NORMAL2-IM-0516-0001.jpeg  \n",
            "  inflating: Dataset3/Train/Normal/NORMAL2-IM-0525-0001.jpeg  \n",
            "  inflating: Dataset3/Train/Normal/NORMAL2-IM-0530-0001.jpeg  \n",
            "  inflating: Dataset3/Train/Normal/NORMAL2-IM-0552-0001.jpeg  \n",
            "  inflating: Dataset3/Train/Normal/NORMAL2-IM-0568-0001.jpeg  \n",
            "  inflating: Dataset3/Train/Normal/NORMAL2-IM-0578-0001.jpeg  \n",
            "  inflating: Dataset3/Train/Normal/NORMAL2-IM-0582-0001.jpeg  \n",
            "  inflating: Dataset3/Train/Normal/NORMAL2-IM-0585-0001.jpeg  \n",
            "  inflating: Dataset3/Train/Normal/NORMAL2-IM-0587-0001.jpeg  \n",
            "  inflating: Dataset3/Train/Normal/NORMAL2-IM-0588-0001.jpeg  \n",
            "  inflating: Dataset3/Train/Normal/NORMAL2-IM-0592-0001.jpeg  \n",
            "  inflating: Dataset3/Train/Normal/NORMAL2-IM-0611-0001.jpeg  \n",
            "  inflating: Dataset3/Train/Normal/NORMAL2-IM-0616-0001.jpeg  \n",
            "  inflating: Dataset3/Train/Normal/NORMAL2-IM-0618-0001.jpeg  \n",
            "  inflating: Dataset3/Train/Normal/NORMAL2-IM-0637-0001.jpeg  \n",
            "  inflating: Dataset3/Train/Normal/NORMAL2-IM-0642-0001.jpeg  \n",
            "  inflating: Dataset3/Train/Normal/NORMAL2-IM-0650-0001.jpeg  \n",
            "  inflating: Dataset3/Train/Normal/NORMAL2-IM-0692-0001.jpeg  \n",
            "  inflating: Dataset3/Train/Normal/NORMAL2-IM-0695-0001.jpeg  \n",
            "  inflating: Dataset3/Train/Normal/NORMAL2-IM-0705-0001.jpeg  \n",
            "  inflating: Dataset3/Train/Normal/NORMAL2-IM-0718-0001.jpeg  \n",
            "  inflating: Dataset3/Train/Normal/NORMAL2-IM-0797-0001.jpeg  \n",
            "  inflating: Dataset3/Train/Normal/NORMAL2-IM-0798-0001.jpeg  \n",
            "  inflating: Dataset3/Train/Normal/NORMAL2-IM-0799-0001.jpeg  \n",
            "  inflating: Dataset3/Train/Normal/NORMAL2-IM-0803-0001.jpeg  \n",
            "  inflating: Dataset3/Train/Normal/NORMAL2-IM-0804-0001.jpeg  \n",
            "  inflating: Dataset3/Train/Normal/NORMAL2-IM-0812-0001.jpeg  \n",
            "  inflating: Dataset3/Train/Normal/NORMAL2-IM-0827-0001.jpeg  \n",
            "  inflating: Dataset3/Train/Normal/NORMAL2-IM-0832-0001.jpeg  \n",
            "  inflating: Dataset3/Train/Normal/NORMAL2-IM-0833-0001.jpeg  \n",
            "  inflating: Dataset3/Train/Normal/NORMAL2-IM-0837-0001.jpeg  \n",
            "  inflating: Dataset3/Train/Normal/NORMAL2-IM-0852-0001.jpeg  \n",
            "  inflating: Dataset3/Train/Normal/NORMAL2-IM-0854-0001.jpeg  \n",
            "  inflating: Dataset3/Train/Normal/NORMAL2-IM-0862-0001.jpeg  \n",
            "  inflating: Dataset3/Train/Normal/NORMAL2-IM-0867-0001.jpeg  \n",
            "  inflating: Dataset3/Train/Normal/NORMAL2-IM-0872-0001.jpeg  \n",
            "  inflating: Dataset3/Train/Normal/NORMAL2-IM-0898-0001.jpeg  \n",
            "  inflating: Dataset3/Train/Normal/NORMAL2-IM-0907-0001.jpeg  \n",
            "  inflating: Dataset3/Train/Normal/NORMAL2-IM-0911-0001.jpeg  \n",
            "  inflating: Dataset3/Train/Normal/NORMAL2-IM-0914-0001.jpeg  \n",
            "  inflating: Dataset3/Train/Normal/NORMAL2-IM-0917-0001.jpeg  \n",
            "  inflating: Dataset3/Train/Normal/NORMAL2-IM-0926-0001.jpeg  \n",
            "  inflating: Dataset3/Train/Normal/NORMAL2-IM-0930-0001.jpeg  \n",
            "  inflating: Dataset3/Train/Normal/NORMAL2-IM-0937-0001.jpeg  \n",
            "  inflating: Dataset3/Train/Normal/NORMAL2-IM-0939-0001.jpeg  \n",
            "  inflating: Dataset3/Train/Normal/NORMAL2-IM-0946-0001.jpeg  \n",
            "  inflating: Dataset3/Train/Normal/NORMAL2-IM-0948-0001.jpeg  \n",
            "  inflating: Dataset3/Train/Normal/NORMAL2-IM-0961-0001.jpeg  \n",
            "  inflating: Dataset3/Train/Normal/NORMAL2-IM-0969-0001.jpeg  \n",
            "  inflating: Dataset3/Train/Normal/NORMAL2-IM-0986-0001.jpeg  \n",
            "  inflating: Dataset3/Train/Normal/NORMAL2-IM-1040-0001.jpeg  \n",
            "  inflating: Dataset3/Train/Normal/NORMAL2-IM-1045-0001.jpeg  \n",
            "  inflating: Dataset3/Train/Normal/NORMAL2-IM-1047-0001.jpeg  \n",
            "  inflating: Dataset3/Train/Normal/NORMAL2-IM-1054-0001.jpeg  \n",
            "  inflating: Dataset3/Train/Normal/NORMAL2-IM-1084-0001.jpeg  \n",
            "  inflating: Dataset3/Train/Normal/NORMAL2-IM-1094-0001-0002.jpeg  \n",
            "  inflating: Dataset3/Train/Normal/NORMAL2-IM-1096-0001-0001.jpeg  \n",
            "  inflating: Dataset3/Train/Normal/NORMAL2-IM-1104-0001.jpeg  \n",
            "  inflating: Dataset3/Train/Normal/NORMAL2-IM-1147-0001.jpeg  \n",
            "  inflating: Dataset3/Train/Normal/NORMAL2-IM-1160-0001.jpeg  \n",
            "  inflating: Dataset3/Train/Normal/NORMAL2-IM-1162-0001.jpeg  \n",
            "  inflating: Dataset3/Train/Normal/NORMAL2-IM-1163-0001.jpeg  \n",
            "  inflating: Dataset3/Train/Normal/NORMAL2-IM-1170-0001.jpeg  \n",
            "  inflating: Dataset3/Train/Normal/NORMAL2-IM-1174-0001.jpeg  \n",
            "  inflating: Dataset3/Train/Normal/NORMAL2-IM-1176-0001.jpeg  \n",
            "  inflating: Dataset3/Train/Normal/NORMAL2-IM-1179-0001.jpeg  \n",
            "  inflating: Dataset3/Train/Normal/NORMAL2-IM-1191-0001.jpeg  \n",
            "  inflating: Dataset3/Train/Normal/NORMAL2-IM-1200-0001.jpeg  \n",
            "  inflating: Dataset3/Train/Normal/NORMAL2-IM-1202-0001.jpeg  \n",
            "  inflating: Dataset3/Train/Normal/NORMAL2-IM-1204-0001.jpeg  \n",
            "  inflating: Dataset3/Train/Normal/NORMAL2-IM-1227-0001.jpeg  \n",
            "  inflating: Dataset3/Train/Normal/NORMAL2-IM-1231-0001.jpeg  \n",
            "  inflating: Dataset3/Train/Normal/NORMAL2-IM-1253-0001.jpeg  \n",
            "  inflating: Dataset3/Train/Normal/NORMAL2-IM-1258-0001-0002.jpeg  \n",
            "  inflating: Dataset3/Train/Normal/NORMAL2-IM-1262-0001.jpeg  \n",
            "  inflating: Dataset3/Train/Normal/NORMAL2-IM-1266-0001.jpeg  \n",
            "  inflating: Dataset3/Train/Normal/NORMAL2-IM-1270-0001.jpeg  \n",
            "  inflating: Dataset3/Train/Normal/NORMAL2-IM-1276-0001.jpeg  \n",
            "  inflating: Dataset3/Train/Normal/NORMAL2-IM-1278-0001.jpeg  \n",
            "  inflating: Dataset3/Train/Normal/NORMAL2-IM-1281-0001.jpeg  \n",
            "  inflating: Dataset3/Train/Normal/NORMAL2-IM-1287-0001.jpeg  \n",
            "  inflating: Dataset3/Train/Normal/NORMAL2-IM-1303-0001.jpeg  \n",
            "  inflating: Dataset3/Train/Normal/NORMAL2-IM-1315-0001.jpeg  \n",
            "  inflating: Dataset3/Train/Normal/NORMAL2-IM-1322-0001.jpeg  \n",
            "  inflating: Dataset3/Train/Normal/NORMAL2-IM-1327-0001.jpeg  \n",
            "  inflating: Dataset3/Train/Normal/NORMAL2-IM-1335-0001.jpeg  \n",
            "  inflating: Dataset3/Train/Normal/NORMAL2-IM-1336-0001.jpeg  \n",
            "  inflating: Dataset3/Train/Normal/NORMAL2-IM-1346-0001.jpeg  \n",
            "  inflating: Dataset3/Train/Normal/NORMAL2-IM-1385-0001.jpeg  \n",
            "  inflating: Dataset3/Train/Normal/NORMAL2-IM-1401-0001.jpeg  \n",
            "  inflating: Dataset3/Train/Normal/NORMAL2-IM-1419-0001.jpeg  \n"
          ],
          "name": "stdout"
        }
      ]
    },
    {
      "cell_type": "code",
      "metadata": {
        "id": "asgZHNMMHLys"
      },
      "source": [
        "TRAIN_PATH = \"Dataset2/Train\"\n",
        "VAL_PATH =\"Dataset2/Test\""
      ],
      "execution_count": null,
      "outputs": []
    },
    {
      "cell_type": "code",
      "metadata": {
        "id": "coIAE4c9HPq1"
      },
      "source": [
        "import numpy as np\n",
        "import matplotlib.pyplot as plt\n",
        "import keras\n",
        "from keras.layers import *\n",
        "from keras.models import *\n",
        "from keras.preprocessing import image"
      ],
      "execution_count": null,
      "outputs": []
    },
    {
      "cell_type": "code",
      "metadata": {
        "id": "0a2NYWTZHQ7J"
      },
      "source": [
        "#CNN Based Model in Keras\n",
        "\n",
        "model = Sequential()\n",
        "model.add(Conv2D(32,kernel_size=(3,3 ),activation='relu',input_shape=(224,224,3)))\n",
        "model.add(Conv2D(64,(3,3),activation='relu'))\n",
        "model.add(MaxPooling2D(pool_size=(2,2)))\n",
        "model.add(Dropout(0.25))\n",
        "\n",
        "model.add(Conv2D(64,(3,3),activation='relu'))\n",
        "model.add(MaxPooling2D(pool_size=(2,2)))\n",
        "model.add(Dropout(0.25))\n",
        "\n",
        "\n",
        "model.add(Conv2D(128,(3,3),activation='relu'))\n",
        "model.add(MaxPooling2D(pool_size=(2,2)))\n",
        "model.add(Dropout(0.25))\n",
        "\n",
        "model.add(Conv2D(256,(3,3),activation='relu'))\n",
        "model.add(MaxPooling2D(pool_size=(2,2)))\n",
        "model.add(Dropout(0.25))\n",
        "\n",
        "model.add(Flatten())\n",
        "model.add(Dense(64,activation='relu'))\n",
        "model.add(Dropout(0.5))\n",
        "model.add(Dense(1,activation='sigmoid'))\n",
        "\n",
        "model.compile(loss=keras.losses.binary_crossentropy,optimizer='adam',metrics=['accuracy'])"
      ],
      "execution_count": null,
      "outputs": []
    },
    {
      "cell_type": "code",
      "metadata": {
        "id": "GRcLMBkYHaiy",
        "colab": {
          "base_uri": "https://localhost:8080/",
          "height": 722
        },
        "outputId": "943f1639-0e45-4f0c-e223-ed5c76b837ca"
      },
      "source": [
        "model.summary()"
      ],
      "execution_count": null,
      "outputs": [
        {
          "output_type": "stream",
          "text": [
            "Model: \"sequential_2\"\n",
            "_________________________________________________________________\n",
            "Layer (type)                 Output Shape              Param #   \n",
            "=================================================================\n",
            "conv2d_6 (Conv2D)            (None, 222, 222, 32)      896       \n",
            "_________________________________________________________________\n",
            "conv2d_7 (Conv2D)            (None, 220, 220, 64)      18496     \n",
            "_________________________________________________________________\n",
            "max_pooling2d_5 (MaxPooling2 (None, 110, 110, 64)      0         \n",
            "_________________________________________________________________\n",
            "dropout_6 (Dropout)          (None, 110, 110, 64)      0         \n",
            "_________________________________________________________________\n",
            "conv2d_8 (Conv2D)            (None, 108, 108, 64)      36928     \n",
            "_________________________________________________________________\n",
            "max_pooling2d_6 (MaxPooling2 (None, 54, 54, 64)        0         \n",
            "_________________________________________________________________\n",
            "dropout_7 (Dropout)          (None, 54, 54, 64)        0         \n",
            "_________________________________________________________________\n",
            "conv2d_9 (Conv2D)            (None, 52, 52, 128)       73856     \n",
            "_________________________________________________________________\n",
            "max_pooling2d_7 (MaxPooling2 (None, 26, 26, 128)       0         \n",
            "_________________________________________________________________\n",
            "dropout_8 (Dropout)          (None, 26, 26, 128)       0         \n",
            "_________________________________________________________________\n",
            "conv2d_10 (Conv2D)           (None, 24, 24, 256)       295168    \n",
            "_________________________________________________________________\n",
            "max_pooling2d_8 (MaxPooling2 (None, 12, 12, 256)       0         \n",
            "_________________________________________________________________\n",
            "dropout_9 (Dropout)          (None, 12, 12, 256)       0         \n",
            "_________________________________________________________________\n",
            "flatten_2 (Flatten)          (None, 36864)             0         \n",
            "_________________________________________________________________\n",
            "dense_3 (Dense)              (None, 64)                2359360   \n",
            "_________________________________________________________________\n",
            "dropout_10 (Dropout)         (None, 64)                0         \n",
            "_________________________________________________________________\n",
            "dense_4 (Dense)              (None, 1)                 65        \n",
            "=================================================================\n",
            "Total params: 2,784,769\n",
            "Trainable params: 2,784,769\n",
            "Non-trainable params: 0\n",
            "_________________________________________________________________\n"
          ],
          "name": "stdout"
        }
      ]
    },
    {
      "cell_type": "code",
      "metadata": {
        "id": "G7kycktBHh0K"
      },
      "source": [
        "# Train from Scratch \n",
        "\n",
        "train_datagen = image.ImageDataGenerator(\n",
        "    rescale= 1./255,\n",
        "    shear_range = 0.2,\n",
        "    zoom_range = 0.2,\n",
        "    horizontal_flip = True,\n",
        "\n",
        ")\n",
        "\n",
        "test_dataset = image.ImageDataGenerator(rescale=1./255)"
      ],
      "execution_count": null,
      "outputs": []
    },
    {
      "cell_type": "code",
      "metadata": {
        "id": "zcPS2JVcHjzw",
        "colab": {
          "base_uri": "https://localhost:8080/",
          "height": 34
        },
        "outputId": "137c732b-6081-4fd8-f1c8-d8271ba1d060"
      },
      "source": [
        "train_generator = train_datagen.flow_from_directory(\n",
        "    'CovidDataset2/Train',\n",
        "    target_size = (224,224),\n",
        "    batch_size = 32,\n",
        "    class_mode = 'binary')"
      ],
      "execution_count": null,
      "outputs": [
        {
          "output_type": "stream",
          "text": [
            "Found 330 images belonging to 2 classes.\n"
          ],
          "name": "stdout"
        }
      ]
    },
    {
      "cell_type": "code",
      "metadata": {
        "id": "fACRrU8aHlMe",
        "colab": {
          "base_uri": "https://localhost:8080/",
          "height": 34
        },
        "outputId": "c156f8af-08e2-4d2f-b406-4c5570823bc8"
      },
      "source": [
        "train_generator.class_indices"
      ],
      "execution_count": null,
      "outputs": [
        {
          "output_type": "execute_result",
          "data": {
            "text/plain": [
              "{'Covid': 0, 'Normal': 1}"
            ]
          },
          "metadata": {
            "tags": []
          },
          "execution_count": 36
        }
      ]
    },
    {
      "cell_type": "code",
      "metadata": {
        "id": "LKxmLRXyHrqy",
        "colab": {
          "base_uri": "https://localhost:8080/",
          "height": 34
        },
        "outputId": "a3622bd2-90ca-47c8-8980-e2276a579c93"
      },
      "source": [
        "validation_generator = test_dataset.flow_from_directory(\n",
        "    'CovidDataset2/Test',\n",
        "    target_size = (224,224),\n",
        "    batch_size = 32,\n",
        "    class_mode = 'binary'\n",
        "    )"
      ],
      "execution_count": null,
      "outputs": [
        {
          "output_type": "stream",
          "text": [
            "Found 82 images belonging to 2 classes.\n"
          ],
          "name": "stdout"
        }
      ]
    },
    {
      "cell_type": "code",
      "metadata": {
        "id": "9vNHiPI4Hw2q",
        "colab": {
          "base_uri": "https://localhost:8080/",
          "height": 857
        },
        "outputId": "f5011d86-029d-41bc-c94b-30356b3dd854"
      },
      "source": [
        "hist = model.fit_generator(\n",
        "    train_generator,\n",
        "    steps_per_epoch=10,\n",
        "    epochs = 25,\n",
        "    validation_data = validation_generator,\n",
        "    validation_steps= 2)"
      ],
      "execution_count": null,
      "outputs": [
        {
          "output_type": "stream",
          "text": [
            "Epoch 1/25\n",
            "10/10 [==============================] - 11s 1s/step - loss: 1.0149 - accuracy: 0.4765 - val_loss: 0.6913 - val_accuracy: 0.4531\n",
            "Epoch 2/25\n",
            "10/10 [==============================] - 10s 990ms/step - loss: 0.6732 - accuracy: 0.5906 - val_loss: 0.6413 - val_accuracy: 0.6200\n",
            "Epoch 3/25\n",
            "10/10 [==============================] - 10s 1s/step - loss: 0.6167 - accuracy: 0.6678 - val_loss: 0.5867 - val_accuracy: 0.5800\n",
            "Epoch 4/25\n",
            "10/10 [==============================] - 11s 1s/step - loss: 0.5124 - accuracy: 0.7563 - val_loss: 0.3038 - val_accuracy: 0.9688\n",
            "Epoch 5/25\n",
            "10/10 [==============================] - 9s 919ms/step - loss: 0.3559 - accuracy: 0.8696 - val_loss: 0.2395 - val_accuracy: 0.9400\n",
            "Epoch 6/25\n",
            "10/10 [==============================] - 10s 1s/step - loss: 0.2625 - accuracy: 0.9250 - val_loss: 0.0872 - val_accuracy: 0.9800\n",
            "Epoch 7/25\n",
            "10/10 [==============================] - 10s 1s/step - loss: 0.2404 - accuracy: 0.9094 - val_loss: 0.1263 - val_accuracy: 0.9688\n",
            "Epoch 8/25\n",
            "10/10 [==============================] - 11s 1s/step - loss: 0.2080 - accuracy: 0.9396 - val_loss: 0.1015 - val_accuracy: 1.0000\n",
            "Epoch 9/25\n",
            "10/10 [==============================] - 9s 942ms/step - loss: 0.1991 - accuracy: 0.9430 - val_loss: 0.1796 - val_accuracy: 0.9800\n",
            "Epoch 10/25\n",
            "10/10 [==============================] - 10s 999ms/step - loss: 0.1959 - accuracy: 0.9384 - val_loss: 0.1357 - val_accuracy: 0.9844\n",
            "Epoch 11/25\n",
            "10/10 [==============================] - 11s 1s/step - loss: 0.1535 - accuracy: 0.9469 - val_loss: 0.1588 - val_accuracy: 0.9800\n",
            "Epoch 12/25\n",
            "10/10 [==============================] - 10s 1s/step - loss: 0.1469 - accuracy: 0.9469 - val_loss: 0.0181 - val_accuracy: 1.0000\n",
            "Epoch 13/25\n",
            "10/10 [==============================] - 10s 973ms/step - loss: 0.1613 - accuracy: 0.9565 - val_loss: 0.1109 - val_accuracy: 0.9844\n",
            "Epoch 14/25\n",
            "10/10 [==============================] - 10s 1s/step - loss: 0.3595 - accuracy: 0.9161 - val_loss: 0.0569 - val_accuracy: 0.9600\n",
            "Epoch 15/25\n",
            "10/10 [==============================] - 10s 954ms/step - loss: 0.4116 - accuracy: 0.8456 - val_loss: 0.3782 - val_accuracy: 0.9800\n",
            "Epoch 16/25\n",
            "10/10 [==============================] - 10s 1s/step - loss: 0.4729 - accuracy: 0.7785 - val_loss: 0.4224 - val_accuracy: 0.9844\n",
            "Epoch 17/25\n",
            "10/10 [==============================] - 11s 1s/step - loss: 0.2728 - accuracy: 0.8906 - val_loss: 0.0965 - val_accuracy: 0.9800\n",
            "Epoch 18/25\n",
            "10/10 [==============================] - 10s 996ms/step - loss: 0.2325 - accuracy: 0.9295 - val_loss: 0.1717 - val_accuracy: 0.9600\n",
            "Epoch 19/25\n",
            "10/10 [==============================] - 11s 1s/step - loss: 0.2827 - accuracy: 0.9060 - val_loss: 0.2627 - val_accuracy: 0.9688\n",
            "Epoch 20/25\n",
            "10/10 [==============================] - 10s 967ms/step - loss: 0.2084 - accuracy: 0.9597 - val_loss: 0.2813 - val_accuracy: 0.9600\n",
            "Epoch 21/25\n",
            "10/10 [==============================] - 10s 966ms/step - loss: 0.2554 - accuracy: 0.9262 - val_loss: 0.1129 - val_accuracy: 0.9800\n",
            "Epoch 22/25\n",
            "10/10 [==============================] - 10s 1s/step - loss: 0.1983 - accuracy: 0.9430 - val_loss: 0.1008 - val_accuracy: 0.9688\n",
            "Epoch 23/25\n",
            "10/10 [==============================] - 11s 1s/step - loss: 0.1901 - accuracy: 0.9219 - val_loss: 0.0526 - val_accuracy: 1.0000\n",
            "Epoch 24/25\n",
            "10/10 [==============================] - 9s 892ms/step - loss: 0.1902 - accuracy: 0.9420 - val_loss: 0.1708 - val_accuracy: 0.9600\n",
            "Epoch 25/25\n",
            "10/10 [==============================] - 11s 1s/step - loss: 0.1459 - accuracy: 0.9563 - val_loss: 0.0726 - val_accuracy: 0.9844\n"
          ],
          "name": "stdout"
        }
      ]
    },
    {
      "cell_type": "code",
      "metadata": {
        "id": "Xvt19DYVHyd_",
        "colab": {
          "base_uri": "https://localhost:8080/",
          "height": 34
        },
        "outputId": "3e0bd15b-0e58-4fd2-9dbf-9d35ddb7968f"
      },
      "source": [
        "model.evaluate_generator(train_generator)"
      ],
      "execution_count": null,
      "outputs": [
        {
          "output_type": "execute_result",
          "data": {
            "text/plain": [
              "[0.07774554193019867, 0.9696969985961914]"
            ]
          },
          "metadata": {
            "tags": []
          },
          "execution_count": 39
        }
      ]
    },
    {
      "cell_type": "code",
      "metadata": {
        "id": "ieCtIrQ-I7CB",
        "colab": {
          "base_uri": "https://localhost:8080/",
          "height": 34
        },
        "outputId": "b6836e2b-bf4e-4ffc-c84f-77f2280d37f0"
      },
      "source": [
        "model.evaluate_generator(validation_generator)"
      ],
      "execution_count": null,
      "outputs": [
        {
          "output_type": "execute_result",
          "data": {
            "text/plain": [
              "[0.1202959194779396, 0.9878048896789551]"
            ]
          },
          "metadata": {
            "tags": []
          },
          "execution_count": 40
        }
      ]
    },
    {
      "cell_type": "code",
      "metadata": {
        "id": "cXNNQTIbI-Sa",
        "colab": {
          "base_uri": "https://localhost:8080/",
          "height": 34
        },
        "outputId": "79038e86-a07e-4acd-8236-70eba47c7085"
      },
      "source": [
        "train_generator.class_indices"
      ],
      "execution_count": null,
      "outputs": [
        {
          "output_type": "execute_result",
          "data": {
            "text/plain": [
              "{'Covid': 0, 'Normal': 1}"
            ]
          },
          "metadata": {
            "tags": []
          },
          "execution_count": 41
        }
      ]
    },
    {
      "cell_type": "code",
      "metadata": {
        "id": "bz3rCEhlJIRt"
      },
      "source": [
        "y_actual = []\n",
        "y_test = []\n"
      ],
      "execution_count": null,
      "outputs": []
    },
    {
      "cell_type": "code",
      "metadata": {
        "id": "DNGyIgYmJJaU"
      },
      "source": [
        "import os\n",
        "for i in os.listdir(\"./CovidDataset2/Test/Normal/\"):\n",
        "  img = image.load_img(\"./CovidDataset2/Test/Normal/\"+i, target_size=(224,224))\n",
        "  img = image.img_to_array(img)\n",
        "  img = np.expand_dims(img, axis=0)\n",
        "  p = model.predict_classes(img)\n",
        "  y_test.append(p[0,0])\n",
        "  y_actual.append(1)"
      ],
      "execution_count": null,
      "outputs": []
    },
    {
      "cell_type": "code",
      "metadata": {
        "id": "14CCLYFNJKlW"
      },
      "source": [
        "for i in os.listdir(\"./CovidDataset2/Test/Covid/\"):\n",
        "  img = image.load_img(\"./CovidDataset2/Test/Covid/\"+i, target_size=(224,224))\n",
        "  img = image.img_to_array(img)\n",
        "  img = np.expand_dims(img, axis=0)\n",
        "  p = model.predict_classes(img)\n",
        "  y_test.append(p[0,0])\n",
        "  y_actual.append(0)"
      ],
      "execution_count": null,
      "outputs": []
    },
    {
      "cell_type": "code",
      "metadata": {
        "id": "sm5fnRTiJMFG"
      },
      "source": [
        "y_actual = np.array(y_actual)\n",
        "y_test = np.array(y_test)"
      ],
      "execution_count": null,
      "outputs": []
    },
    {
      "cell_type": "code",
      "metadata": {
        "id": "vl--Qzd2JNbU"
      },
      "source": [
        "from sklearn.metrics import confusion_matrix"
      ],
      "execution_count": null,
      "outputs": []
    },
    {
      "cell_type": "code",
      "metadata": {
        "id": "qLv8fls7JSgW"
      },
      "source": [
        "import seaborn as sns\n",
        "cm = confusion_matrix(y_actual, y_test)"
      ],
      "execution_count": null,
      "outputs": []
    },
    {
      "cell_type": "code",
      "metadata": {
        "id": "aOpefuPYJTtA",
        "colab": {
          "base_uri": "https://localhost:8080/",
          "height": 282
        },
        "outputId": "13583f68-a91c-4cb5-f7a1-6c75785035dd"
      },
      "source": [
        "sns.heatmap(cm, cmap=\"plasma\", annot= True)"
      ],
      "execution_count": null,
      "outputs": [
        {
          "output_type": "execute_result",
          "data": {
            "text/plain": [
              "<matplotlib.axes._subplots.AxesSubplot at 0x7f3ad5690d30>"
            ]
          },
          "metadata": {
            "tags": []
          },
          "execution_count": 48
        },
        {
          "output_type": "display_data",
          "data": {
            "image/png": "[encoded data removed]",
            "text/plain": [
              "<Figure size 432x288 with 2 Axes>"
            ]
          },
          "metadata": {
            "tags": [],
            "needs_background": "light"
          }
        }
      ]
    },
    {
      "cell_type": "code",
      "metadata": {
        "id": "5TydXEofJVDD"
      },
      "source": [
        "\n",
        "# calculate roc curve\n",
        "from sklearn.metrics import roc_curve\n",
        "fpr, tpr, thresholds = roc_curve(y_actual, y_test)"
      ],
      "execution_count": null,
      "outputs": []
    },
    {
      "cell_type": "code",
      "metadata": {
        "id": "GBdrf61iDCOG"
      },
      "source": [
        "from sklearn.metrics import auc\n",
        "auc_keras = auc(fpr, tpr)"
      ],
      "execution_count": null,
      "outputs": []
    },
    {
      "cell_type": "code",
      "metadata": {
        "id": "P8TQsy1ADEV8",
        "colab": {
          "base_uri": "https://localhost:8080/",
          "height": 295
        },
        "outputId": "fe8eafe8-51ea-4535-f653-d873fe66af50"
      },
      "source": [
        "plt.figure(1)\n",
        "plt.plot([0, 1], [0, 1], 'k--')\n",
        "plt.plot(fpr, tpr, label='Keras (area = {:.3f})'.format(auc_keras))\n",
        "plt.xlabel('False positive rate')\n",
        "plt.ylabel('True positive rate')\n",
        "plt.title('ROC curve')\n",
        "plt.legend(loc='best')\n",
        "plt.show()"
      ],
      "execution_count": null,
      "outputs": [
        {
          "output_type": "display_data",
          "data": {
            "image/png": "[encoded data removed]",
            "text/plain": [
              "<Figure size 432x288 with 1 Axes>"
            ]
          },
          "metadata": {
            "tags": [],
            "needs_background": "light"
          }
        }
      ]
    },
    {
      "cell_type": "code",
      "metadata": {
        "id": "EhZblAP7DGYz",
        "colab": {
          "base_uri": "https://localhost:8080/",
          "height": 295
        },
        "outputId": "8d86be11-af6d-4840-80f2-817cfde9ee76"
      },
      "source": [
        "plt.figure(2)\n",
        "plt.xlim(0, 0.2)\n",
        "plt.ylim(0.8, 1)\n",
        "plt.plot([0, 1], [0, 1], 'k--')\n",
        "plt.plot(fpr, tpr, label='Keras (area = {:.3f})'.format(auc_keras))\n",
        "plt.xlabel('False positive rate')\n",
        "plt.ylabel('True positive rate')\n",
        "plt.title('ROC curve (zoomed in at top left)')\n",
        "plt.legend(loc='best')\n",
        "plt.show()"
      ],
      "execution_count": null,
      "outputs": [
        {
          "output_type": "display_data",
          "data": {
            "image/png": "[encoded data removed]",
            "text/plain": [
              "<Figure size 432x288 with 1 Axes>"
            ]
          },
          "metadata": {
            "tags": [],
            "needs_background": "light"
          }
        }
      ]
    },
    {
      "cell_type": "code",
      "metadata": {
        "id": "Q9mWuvSMDO7H"
      },
      "source": [
        ""
      ],
      "execution_count": null,
      "outputs": []
    }
  ]
}